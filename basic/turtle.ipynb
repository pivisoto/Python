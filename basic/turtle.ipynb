{
 "cells": [
  {
   "cell_type": "code",
   "execution_count": null,
   "id": "09343a46",
   "metadata": {},
   "outputs": [],
   "source": [
    "import turtle\n",
    "janela = turtle.Screen()\n",
    "mike = turtle.Turtle()\n",
    "mike.shape(\"turtle\")\n",
    "mike.color(\"red\")"
   ]
  },
  {
   "cell_type": "code",
   "execution_count": null,
   "id": "84bfe9e3",
   "metadata": {},
   "outputs": [],
   "source": [
    "janela = turtle.Screen()"
   ]
  },
  {
   "cell_type": "code",
   "execution_count": null,
   "id": "91a736ce",
   "metadata": {},
   "outputs": [],
   "source": [
    "mike = turtle.Turtle()"
   ]
  },
  {
   "cell_type": "code",
   "execution_count": null,
   "id": "d45d476a",
   "metadata": {},
   "outputs": [],
   "source": [
    "mike.shape(\"turtle\")"
   ]
  },
  {
   "cell_type": "code",
   "execution_count": null,
   "id": "fe06e461",
   "metadata": {},
   "outputs": [],
   "source": [
    "mike.color(\"red\")"
   ]
  },
  {
   "cell_type": "code",
   "execution_count": 5,
   "id": "91de81ff",
   "metadata": {
    "scrolled": true
   },
   "outputs": [
    {
     "ename": "SyntaxError",
     "evalue": "invalid syntax (<ipython-input-5-5df8b147fb4c>, line 1)",
     "output_type": "error",
     "traceback": [
      "\u001b[1;36m  File \u001b[1;32m\"<ipython-input-5-5df8b147fb4c>\"\u001b[1;36m, line \u001b[1;32m1\u001b[0m\n\u001b[1;33m    mike.(forward45)\u001b[0m\n\u001b[1;37m         ^\u001b[0m\n\u001b[1;31mSyntaxError\u001b[0m\u001b[1;31m:\u001b[0m invalid syntax\n"
     ]
    }
   ],
   "source": [
    "mike.forward(45)"
   ]
  },
  {
   "cell_type": "code",
   "execution_count": null,
   "id": "3ee13f20",
   "metadata": {},
   "outputs": [],
   "source": []
  },
  {
   "cell_type": "code",
   "execution_count": null,
   "id": "282d81b5",
   "metadata": {},
   "outputs": [],
   "source": []
  },
  {
   "cell_type": "code",
   "execution_count": null,
   "id": "1efbcda3",
   "metadata": {},
   "outputs": [],
   "source": []
  },
  {
   "cell_type": "code",
   "execution_count": null,
   "id": "4bc4e1cb",
   "metadata": {},
   "outputs": [],
   "source": []
  },
  {
   "cell_type": "code",
   "execution_count": null,
   "id": "b682dcfd",
   "metadata": {},
   "outputs": [],
   "source": []
  }
 ],
 "metadata": {
  "kernelspec": {
   "display_name": "Python 3",
   "language": "python",
   "name": "python3"
  },
  "language_info": {
   "codemirror_mode": {
    "name": "ipython",
    "version": 3
   },
   "file_extension": ".py",
   "mimetype": "text/x-python",
   "name": "python",
   "nbconvert_exporter": "python",
   "pygments_lexer": "ipython3",
   "version": "3.8.8"
  }
 },
 "nbformat": 4,
 "nbformat_minor": 5
}
